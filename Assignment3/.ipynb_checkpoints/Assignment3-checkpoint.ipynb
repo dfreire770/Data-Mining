{
 "cells": [
  {
   "cell_type": "markdown",
   "id": "4cce8509",
   "metadata": {},
   "source": [
    "#### Assignment 3\n",
    "by Diego Freire"
   ]
  },
  {
   "cell_type": "markdown",
   "id": "e7107a7c",
   "metadata": {},
   "source": [
    "### Exercise 4.3.1: For the situation of our running example (8 billion bits, 1 billion members of the set S), calculate the false-positive rate if we use three hash functions? What if we use four hash functions?"
   ]
  },
  {
   "cell_type": "markdown",
   "id": "35e94bc8",
   "metadata": {},
   "source": [
    "Following what its explained on example 4.3:\n",
    "\n",
    "S has m members, the array has n bits\n",
    "There are k hash functions\n",
    "\n",
    "The number of targets is n, and the number of darts is y = km.\n",
    "\n",
    "Thus, the probability that a bit remains 0 is e^(−km/n)\n",
    "\n",
    "The Probability of a false positive is the probability of a 1 bit, which is the probability of a false positive False positive \n",
    "\n",
    "(1 − e−km/n)^k\n"
   ]
  },
  {
   "cell_type": "code",
   "execution_count": 4,
   "id": "55920fba",
   "metadata": {},
   "outputs": [],
   "source": [
    "import math\n",
    "\n",
    "m = 10**9\n",
    "n = 8*10**9\n",
    "k = 3\n",
    "\n",
    "false_positives = (1 - math.e**(-k*m/n))**k\n",
    "\n"
   ]
  },
  {
   "cell_type": "code",
   "execution_count": 5,
   "id": "d22a9a28",
   "metadata": {},
   "outputs": [
    {
     "data": {
      "text/plain": [
       "0.030579354491777785"
      ]
     },
     "execution_count": 5,
     "metadata": {},
     "output_type": "execute_result"
    }
   ],
   "source": [
    "false_positives"
   ]
  },
  {
   "cell_type": "markdown",
   "id": "ddc0f409",
   "metadata": {},
   "source": [
    "### Exercise 4.4.1: Suppose our stream consists of the integers 3, 1, 4, 1, 5, 9, 2, 6, 5. Our hash functions will all be of the form h(x) = ax+b mod 32 for some a and b. You should treat the result as a 5-bit binary integer. Determine the tail length for each stream element and the resulting estimate of the number of distinct elements if the hash function is:\n",
    "\n",
    "\n",
    "(a) h(x) = 2x+1 mod 32.\n",
    "\n",
    "(b) h(x) = 3x+7 mod 32. \n",
    "\n",
    "(c) h(x) = 4x mod 32."
   ]
  },
  {
   "cell_type": "code",
   "execution_count": 8,
   "id": "cf7f24bd",
   "metadata": {},
   "outputs": [],
   "source": [
    "l = [3, 1, 4, 1, 5, 9, 2, 6, 5]\n",
    "lmin = 0"
   ]
  },
  {
   "cell_type": "markdown",
   "id": "f1016d86",
   "metadata": {},
   "source": [
    "a) h(x) = 2x+1 mod 32."
   ]
  },
  {
   "cell_type": "code",
   "execution_count": 17,
   "id": "5a8f85c2",
   "metadata": {},
   "outputs": [
    {
     "name": "stdout",
     "output_type": "stream",
     "text": [
      "7 = 0b111\n",
      "3 = 0b11\n",
      "9 = 0b1001\n",
      "3 = 0b11\n",
      "11 = 0b1011\n",
      "19 = 0b10011\n",
      "5 = 0b101\n",
      "13 = 0b1101\n",
      "11 = 0b1011\n"
     ]
    }
   ],
   "source": [
    "for x in l:\n",
    "    h1 = (2*x+1) % 32\n",
    "    print(h1, '=', bin(h1))"
   ]
  },
  {
   "cell_type": "markdown",
   "id": "ad8a9a06",
   "metadata": {},
   "source": [
    "b) h(x) = 3x+7 mod 32."
   ]
  },
  {
   "cell_type": "code",
   "execution_count": 18,
   "id": "0427dc4c",
   "metadata": {},
   "outputs": [
    {
     "name": "stdout",
     "output_type": "stream",
     "text": [
      "16 = 0b10000\n",
      "10 = 0b1010\n",
      "19 = 0b10011\n",
      "10 = 0b1010\n",
      "22 = 0b10110\n",
      "2 = 0b10\n",
      "13 = 0b1101\n",
      "25 = 0b11001\n",
      "22 = 0b10110\n"
     ]
    }
   ],
   "source": [
    "for x in l:\n",
    "    h2 = (3*x+7) % 32\n",
    "    print(h2, '=',bin(h2))"
   ]
  },
  {
   "cell_type": "markdown",
   "id": "7a49b796",
   "metadata": {},
   "source": [
    "c) h(x) = 4x mod 32."
   ]
  },
  {
   "cell_type": "code",
   "execution_count": 19,
   "id": "4c2b63d3",
   "metadata": {},
   "outputs": [
    {
     "name": "stdout",
     "output_type": "stream",
     "text": [
      "12 = 0b1100\n",
      "4 = 0b100\n",
      "16 = 0b10000\n",
      "4 = 0b100\n",
      "20 = 0b10100\n",
      "4 = 0b100\n",
      "8 = 0b1000\n",
      "24 = 0b11000\n",
      "20 = 0b10100\n"
     ]
    }
   ],
   "source": [
    "for x in l:\n",
    "    h3 = (4*x) % 32\n",
    "    print(h3, '=',bin(h3))"
   ]
  },
  {
   "cell_type": "markdown",
   "id": "081215e2",
   "metadata": {},
   "source": [
    "### Excercise 5.1.1: Compute the PageRank of each page inFig.5.7, assuming notaxation."
   ]
  },
  {
   "attachments": {
    "image.png": {
     "image/png": "[encoded data removed]"
    }
   },
   "cell_type": "markdown",
   "id": "f0deae93",
   "metadata": {},
   "source": [
    "![image.png](attachment:image.png)"
   ]
  },
  {
   "cell_type": "code",
   "execution_count": 24,
   "id": "4a9fcdfb",
   "metadata": {},
   "outputs": [
    {
     "name": "stdout",
     "output_type": "stream",
     "text": [
      "[[0.11111111]\n",
      " [0.27777778]\n",
      " [0.61111111]]\n",
      "[[1.88167642e-06]\n",
      " [3.33300405e-01]\n",
      " [6.66697713e-01]]\n",
      "[[3.18663555e-11]\n",
      " [3.33333302e-01]\n",
      " [6.66666698e-01]]\n",
      "[[5.39659528e-16]\n",
      " [3.33333333e-01]\n",
      " [6.66666667e-01]]\n",
      "[[9.13918149e-21]\n",
      " [3.33333333e-01]\n",
      " [6.66666667e-01]]\n",
      "[[1.54772841e-25]\n",
      " [3.33333333e-01]\n",
      " [6.66666667e-01]]\n",
      "[[2.62109165e-30]\n",
      " [3.33333333e-01]\n",
      " [6.66666667e-01]]\n",
      "[[4.43884173e-35]\n",
      " [3.33333333e-01]\n",
      " [6.66666667e-01]]\n",
      "[[7.51721745e-40]\n",
      " [3.33333333e-01]\n",
      " [6.66666667e-01]]\n",
      "[[1.27304738e-44]\n",
      " [3.33333333e-01]\n",
      " [6.66666667e-01]]\n"
     ]
    }
   ],
   "source": [
    "import numpy as np\n",
    "\n",
    "M = np.array([[1/3, 0, 0],\n",
    "              [1/3,0,1/2],\n",
    "              [1/3,1,1/2]])\n",
    "\n",
    "r = np.array([[1/3],\n",
    "             [1/3],\n",
    "             [1/3]])\n",
    "\n",
    "for i in range(100):\n",
    "    r = M.dot(r)\n",
    "    r = r\n",
    "    if i % 10 == 0:\n",
    "        print(r)"
   ]
  },
  {
   "cell_type": "markdown",
   "id": "5f56e2f4",
   "metadata": {},
   "source": [
    "### Exercise 5.1.2: Compute the PageRank of each page in Fig. 5.7, assuming β =0.8."
   ]
  },
  {
   "cell_type": "code",
   "execution_count": 25,
   "id": "ba12e8c4",
   "metadata": {},
   "outputs": [
    {
     "name": "stdout",
     "output_type": "stream",
     "text": [
      "[[0.06666667]\n",
      " [0.33333333]\n",
      " [0.6       ]]\n",
      "[[0.09090905]\n",
      " [0.32467573]\n",
      " [0.58441522]]\n",
      "[[0.09090909]\n",
      " [0.32467532]\n",
      " [0.58441558]]\n",
      "[[0.09090909]\n",
      " [0.32467532]\n",
      " [0.58441558]]\n",
      "[[0.09090909]\n",
      " [0.32467532]\n",
      " [0.58441558]]\n",
      "[[0.09090909]\n",
      " [0.32467532]\n",
      " [0.58441558]]\n",
      "[[0.09090909]\n",
      " [0.32467532]\n",
      " [0.58441558]]\n",
      "[[0.09090909]\n",
      " [0.32467532]\n",
      " [0.58441558]]\n",
      "[[0.09090909]\n",
      " [0.32467532]\n",
      " [0.58441558]]\n",
      "[[0.09090909]\n",
      " [0.32467532]\n",
      " [0.58441558]]\n",
      "1.0\n"
     ]
    }
   ],
   "source": [
    "beta = 0.8\n",
    "N = len(M)\n",
    "\n",
    "# Power iteration\n",
    "for i in range(100):\n",
    "    r = M.dot(r) * beta\n",
    "    s = np.sum(r)\n",
    "    r = r + np.ones([N, 1]) * (1 - s) / N\n",
    "    if i % 10 == 0:\n",
    "        print(r)\n",
    "\n",
    "print(np.sum(r))"
   ]
  },
  {
   "cell_type": "code",
   "execution_count": null,
   "id": "ef20aa06",
   "metadata": {},
   "outputs": [],
   "source": []
  }
 ],
 "metadata": {
  "kernelspec": {
   "display_name": "Python 3 (ipykernel)",
   "language": "python",
   "name": "python3"
  },
  "language_info": {
   "codemirror_mode": {
    "name": "ipython",
    "version": 3
   },
   "file_extension": ".py",
   "mimetype": "text/x-python",
   "name": "python",
   "nbconvert_exporter": "python",
   "pygments_lexer": "ipython3",
   "version": "3.9.7"
  }
 },
 "nbformat": 4,
 "nbformat_minor": 5
}
